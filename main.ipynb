{
 "cells": [
  {
   "metadata": {
    "ExecuteTime": {
     "end_time": "2024-11-28T17:53:59.505384Z",
     "start_time": "2024-11-28T17:52:48.906306Z"
    }
   },
   "cell_type": "code",
   "source": "\n",
   "id": "2f82fa6f1bb5f537",
   "outputs": [
    {
     "name": "stderr",
     "output_type": "stream",
     "text": [
      "\n",
      "KeyboardInterrupt\n",
      "\n"
     ]
    }
   ],
   "execution_count": 1
  },
  {
   "metadata": {},
   "cell_type": "markdown",
   "source": "",
   "id": "e3fb9340b448fe23"
  },
  {
   "metadata": {
    "ExecuteTime": {
     "end_time": "2024-11-28T17:57:55.662003Z",
     "start_time": "2024-11-28T17:57:54.208901Z"
    }
   },
   "cell_type": "code",
   "source": [
    "import pandas as pd\n",
    "from evidently.report import Report\n",
    "from evidently.metric_preset import DataDriftPreset, ClassificationPreset\n",
    "\n",
    "training_data = pd.read_csv(\"data/ref_data.csv\")\n",
    "production_data = pd.read_csv(\"data/prod_data.csv\")\n",
    "training_data.drop('embedding', axis=1, inplace=True)\n",
    "production_data.drop('embedding', axis=1, inplace=True)\n",
    "\n",
    "# Identifier toutes les classes présentes dans `target` et `prediction`\n",
    "all_classes = sorted(set(training_data['target']).union(training_data['prediction'])\n",
    "                     .union(production_data['target']).union(production_data['prediction']))\n",
    "\n",
    "# Créer un rapport Evidently\n",
    "report = Report(metrics=[\n",
    "    ClassificationPreset()\n",
    "])\n",
    "\n",
    "# Générer le rapport\n",
    "report.run(reference_data=training_data, current_data=production_data)"
   ],
   "id": "3027102f69aece3b",
   "outputs": [],
   "execution_count": 14
  },
  {
   "metadata": {
    "ExecuteTime": {
     "end_time": "2024-11-28T17:57:55.742077Z",
     "start_time": "2024-11-28T17:57:55.669545Z"
    }
   },
   "cell_type": "code",
   "source": [
    "# Sauvegarder le rapport dans un fichier HTML\n",
    "report.save_html(\"dd.html\")\n",
    "print(\"Rapport Evidently généré : evidently_report.html\")"
   ],
   "id": "bdae481acfdc798b",
   "outputs": [
    {
     "name": "stdout",
     "output_type": "stream",
     "text": [
      "Rapport Evidently généré : evidently_report.html\n"
     ]
    }
   ],
   "execution_count": 15
  },
  {
   "metadata": {
    "ExecuteTime": {
     "end_time": "2024-11-28T17:49:26.915558Z",
     "start_time": "2024-11-28T17:49:26.899514Z"
    }
   },
   "cell_type": "code",
   "source": "production_data",
   "id": "5dd083f0b7dbf749",
   "outputs": [
    {
     "data": {
      "text/plain": [
       "   target  prediction\n",
       "0       0           0\n",
       "1       3           3"
      ],
      "text/html": [
       "<div>\n",
       "<style scoped>\n",
       "    .dataframe tbody tr th:only-of-type {\n",
       "        vertical-align: middle;\n",
       "    }\n",
       "\n",
       "    .dataframe tbody tr th {\n",
       "        vertical-align: top;\n",
       "    }\n",
       "\n",
       "    .dataframe thead th {\n",
       "        text-align: right;\n",
       "    }\n",
       "</style>\n",
       "<table border=\"1\" class=\"dataframe\">\n",
       "  <thead>\n",
       "    <tr style=\"text-align: right;\">\n",
       "      <th></th>\n",
       "      <th>target</th>\n",
       "      <th>prediction</th>\n",
       "    </tr>\n",
       "  </thead>\n",
       "  <tbody>\n",
       "    <tr>\n",
       "      <th>0</th>\n",
       "      <td>0</td>\n",
       "      <td>0</td>\n",
       "    </tr>\n",
       "    <tr>\n",
       "      <th>1</th>\n",
       "      <td>3</td>\n",
       "      <td>3</td>\n",
       "    </tr>\n",
       "  </tbody>\n",
       "</table>\n",
       "</div>"
      ]
     },
     "execution_count": 84,
     "metadata": {},
     "output_type": "execute_result"
    }
   ],
   "execution_count": 84
  },
  {
   "metadata": {
    "ExecuteTime": {
     "end_time": "2024-11-28T17:50:01.155013Z",
     "start_time": "2024-11-28T17:50:01.148264Z"
    }
   },
   "cell_type": "code",
   "source": [
    "training_dataclassification_performance_report = Report(metrics=[\n",
    "    ClassificationPreset(),\n",
    "])\n",
    "\n",
    "classification_performance_report.run(reference_data=bcancer_ref, current_data=bcancer_cur)\n",
    "\n",
    "classification_performance_report\n"
   ],
   "id": "536a405453d833b3",
   "outputs": [
    {
     "data": {
      "text/plain": [
       "      target  prediction\n",
       "0          7           3\n",
       "1          8           8\n",
       "2          0           0\n",
       "3          6           6\n",
       "4          1           1\n",
       "...      ...         ...\n",
       "9995       9           9\n",
       "9996       7           7\n",
       "9997       8           8\n",
       "9998       2           2\n",
       "9999       6           6\n",
       "\n",
       "[10000 rows x 2 columns]"
      ],
      "text/html": [
       "<div>\n",
       "<style scoped>\n",
       "    .dataframe tbody tr th:only-of-type {\n",
       "        vertical-align: middle;\n",
       "    }\n",
       "\n",
       "    .dataframe tbody tr th {\n",
       "        vertical-align: top;\n",
       "    }\n",
       "\n",
       "    .dataframe thead th {\n",
       "        text-align: right;\n",
       "    }\n",
       "</style>\n",
       "<table border=\"1\" class=\"dataframe\">\n",
       "  <thead>\n",
       "    <tr style=\"text-align: right;\">\n",
       "      <th></th>\n",
       "      <th>target</th>\n",
       "      <th>prediction</th>\n",
       "    </tr>\n",
       "  </thead>\n",
       "  <tbody>\n",
       "    <tr>\n",
       "      <th>0</th>\n",
       "      <td>7</td>\n",
       "      <td>3</td>\n",
       "    </tr>\n",
       "    <tr>\n",
       "      <th>1</th>\n",
       "      <td>8</td>\n",
       "      <td>8</td>\n",
       "    </tr>\n",
       "    <tr>\n",
       "      <th>2</th>\n",
       "      <td>0</td>\n",
       "      <td>0</td>\n",
       "    </tr>\n",
       "    <tr>\n",
       "      <th>3</th>\n",
       "      <td>6</td>\n",
       "      <td>6</td>\n",
       "    </tr>\n",
       "    <tr>\n",
       "      <th>4</th>\n",
       "      <td>1</td>\n",
       "      <td>1</td>\n",
       "    </tr>\n",
       "    <tr>\n",
       "      <th>...</th>\n",
       "      <td>...</td>\n",
       "      <td>...</td>\n",
       "    </tr>\n",
       "    <tr>\n",
       "      <th>9995</th>\n",
       "      <td>9</td>\n",
       "      <td>9</td>\n",
       "    </tr>\n",
       "    <tr>\n",
       "      <th>9996</th>\n",
       "      <td>7</td>\n",
       "      <td>7</td>\n",
       "    </tr>\n",
       "    <tr>\n",
       "      <th>9997</th>\n",
       "      <td>8</td>\n",
       "      <td>8</td>\n",
       "    </tr>\n",
       "    <tr>\n",
       "      <th>9998</th>\n",
       "      <td>2</td>\n",
       "      <td>2</td>\n",
       "    </tr>\n",
       "    <tr>\n",
       "      <th>9999</th>\n",
       "      <td>6</td>\n",
       "      <td>6</td>\n",
       "    </tr>\n",
       "  </tbody>\n",
       "</table>\n",
       "<p>10000 rows × 2 columns</p>\n",
       "</div>"
      ]
     },
     "execution_count": 86,
     "metadata": {},
     "output_type": "execute_result"
    }
   ],
   "execution_count": 86
  },
  {
   "metadata": {},
   "cell_type": "code",
   "outputs": [],
   "execution_count": null,
   "source": "",
   "id": "88be238d8f0b0a78"
  }
 ],
 "metadata": {
  "kernelspec": {
   "display_name": "Python 3",
   "language": "python",
   "name": "python3"
  },
  "language_info": {
   "codemirror_mode": {
    "name": "ipython",
    "version": 2
   },
   "file_extension": ".py",
   "mimetype": "text/x-python",
   "name": "python",
   "nbconvert_exporter": "python",
   "pygments_lexer": "ipython2",
   "version": "2.7.6"
  }
 },
 "nbformat": 4,
 "nbformat_minor": 5
}
