{
 "cells": [
  {
   "metadata": {
    "ExecuteTime": {
     "end_time": "2024-11-28T15:58:44.390931Z",
     "start_time": "2024-11-28T15:58:44.379220Z"
    }
   },
   "cell_type": "code",
   "source": [
    "import pandas as pd\n",
    "from evidently.report import Report\n",
    "from evidently.metric_preset import DataDriftPreset, ClassificationPreset\n",
    "from markdown_it.rules_block import reference\n",
    "\n",
    "from webapp.app import prediction\n"
   ],
   "id": "2f82fa6f1bb5f537",
   "outputs": [],
   "execution_count": 15
  },
  {
   "metadata": {},
   "cell_type": "markdown",
   "source": "",
   "id": "e3fb9340b448fe23"
  },
  {
   "metadata": {
    "ExecuteTime": {
     "end_time": "2024-11-28T16:56:53.537472Z",
     "start_time": "2024-11-28T16:56:51.990291Z"
    }
   },
   "cell_type": "code",
   "source": [
    "# Charger les données\n",
    "training_data = pd.read_csv(\"data/ref_data.csv\")\n",
    "production_data = pd.read_csv(\"data/prod_data.csv\")\n",
    "training_data.drop('embedding', axis=1, inplace=True)\n",
    "production_data.drop('embedding', axis=1, inplace=True)\n",
    "\n",
    "# Créer un rapport Evidently\n",
    "report = Report(metrics=[\n",
    "    DataDriftPreset(),\n",
    "    ClassificationPreset()\n",
    "])\n",
    "\n",
    "# Générer le rapport\n",
    "report.run(reference_data=training_data, current_data=production_data)\n"
   ],
   "id": "d4a6a23b185078ee",
   "outputs": [
    {
     "name": "stderr",
     "output_type": "stream",
     "text": [
      "/Users/maximemoreau/Documents/ML/ML_deployement/.venv/lib/python3.9/site-packages/numpy/lib/_function_base_impl.py:2922: RuntimeWarning:\n",
      "\n",
      "invalid value encountered in divide\n",
      "\n",
      "/Users/maximemoreau/Documents/ML/ML_deployement/.venv/lib/python3.9/site-packages/numpy/lib/_function_base_impl.py:2922: RuntimeWarning:\n",
      "\n",
      "invalid value encountered in divide\n",
      "\n",
      "/Users/maximemoreau/Documents/ML/ML_deployement/.venv/lib/python3.9/site-packages/sklearn/metrics/_classification.py:1531: UndefinedMetricWarning:\n",
      "\n",
      "Precision is ill-defined and being set to 0.0 due to no predicted samples. Use `zero_division` parameter to control this behavior.\n",
      "\n",
      "/Users/maximemoreau/Documents/ML/ML_deployement/.venv/lib/python3.9/site-packages/evidently/calculations/classification_performance.py:370: RuntimeWarning:\n",
      "\n",
      "invalid value encountered in scalar divide\n",
      "\n",
      "/Users/maximemoreau/Documents/ML/ML_deployement/.venv/lib/python3.9/site-packages/evidently/calculations/classification_performance.py:371: RuntimeWarning:\n",
      "\n",
      "invalid value encountered in scalar divide\n",
      "\n",
      "/Users/maximemoreau/Documents/ML/ML_deployement/.venv/lib/python3.9/site-packages/sklearn/metrics/_classification.py:1531: UndefinedMetricWarning:\n",
      "\n",
      "Precision is ill-defined and being set to 0.0 in labels with no predicted samples. Use `zero_division` parameter to control this behavior.\n",
      "\n",
      "/Users/maximemoreau/Documents/ML/ML_deployement/.venv/lib/python3.9/site-packages/sklearn/metrics/_classification.py:1531: UndefinedMetricWarning:\n",
      "\n",
      "Recall is ill-defined and being set to 0.0 in labels with no true samples. Use `zero_division` parameter to control this behavior.\n",
      "\n",
      "/Users/maximemoreau/Documents/ML/ML_deployement/.venv/lib/python3.9/site-packages/sklearn/metrics/_classification.py:1531: UndefinedMetricWarning:\n",
      "\n",
      "Precision is ill-defined and being set to 0.0 in labels with no predicted samples. Use `zero_division` parameter to control this behavior.\n",
      "\n",
      "/Users/maximemoreau/Documents/ML/ML_deployement/.venv/lib/python3.9/site-packages/sklearn/metrics/_classification.py:1531: UndefinedMetricWarning:\n",
      "\n",
      "Recall is ill-defined and being set to 0.0 in labels with no true samples. Use `zero_division` parameter to control this behavior.\n",
      "\n",
      "/Users/maximemoreau/Documents/ML/ML_deployement/.venv/lib/python3.9/site-packages/sklearn/metrics/_classification.py:1531: UndefinedMetricWarning:\n",
      "\n",
      "Precision is ill-defined and being set to 0.0 in labels with no predicted samples. Use `zero_division` parameter to control this behavior.\n",
      "\n",
      "/Users/maximemoreau/Documents/ML/ML_deployement/.venv/lib/python3.9/site-packages/sklearn/metrics/_classification.py:1531: UndefinedMetricWarning:\n",
      "\n",
      "Recall is ill-defined and being set to 0.0 in labels with no true samples. Use `zero_division` parameter to control this behavior.\n",
      "\n"
     ]
    }
   ],
   "execution_count": 72
  },
  {
   "metadata": {
    "ExecuteTime": {
     "end_time": "2024-11-28T16:57:49.949480Z",
     "start_time": "2024-11-28T16:57:49.841675Z"
    }
   },
   "cell_type": "code",
   "source": [
    "report.save_html(\"evidently_report.html\")\n",
    "print(\"Rapport Evidently généré : evidently_report.html\")"
   ],
   "id": "8e3956da4d0968a2",
   "outputs": [
    {
     "name": "stdout",
     "output_type": "stream",
     "text": [
      "Rapport Evidently généré : evidently_report.html\n"
     ]
    }
   ],
   "execution_count": 73
  },
  {
   "metadata": {
    "ExecuteTime": {
     "end_time": "2024-11-28T16:54:21.643315Z",
     "start_time": "2024-11-28T16:54:21.639786Z"
    }
   },
   "cell_type": "code",
   "source": "training_data.columns",
   "id": "d3c642839afa6347",
   "outputs": [],
   "execution_count": 64
  },
  {
   "metadata": {
    "ExecuteTime": {
     "end_time": "2024-11-28T16:54:21.946713Z",
     "start_time": "2024-11-28T16:54:21.945106Z"
    }
   },
   "cell_type": "code",
   "source": "",
   "id": "3190d624af849505",
   "outputs": [],
   "execution_count": null
  },
  {
   "metadata": {
    "ExecuteTime": {
     "end_time": "2024-11-28T16:54:22.227441Z",
     "start_time": "2024-11-28T16:54:22.212328Z"
    }
   },
   "cell_type": "code",
   "source": [
    "df = pd.DataFrame({'target' : [1,2], 'prediction' : [2,1]})\n",
    "dff = pd.DataFrame({'target' : [1,3], 'prediction' : [1,1]})\n",
    "\n",
    "report.run(reference_data=training_data, current_data=production_data, zero_division = False)"
   ],
   "id": "97909dd7ba520945",
   "outputs": [
    {
     "ename": "TypeError",
     "evalue": "run() got an unexpected keyword argument 'zero_division'",
     "output_type": "error",
     "traceback": [
      "\u001B[0;31m---------------------------------------------------------------------------\u001B[0m",
      "\u001B[0;31mTypeError\u001B[0m                                 Traceback (most recent call last)",
      "Cell \u001B[0;32mIn[65], line 4\u001B[0m\n\u001B[1;32m      1\u001B[0m df \u001B[38;5;241m=\u001B[39m pd\u001B[38;5;241m.\u001B[39mDataFrame({\u001B[38;5;124m'\u001B[39m\u001B[38;5;124mtarget\u001B[39m\u001B[38;5;124m'\u001B[39m : [\u001B[38;5;241m1\u001B[39m,\u001B[38;5;241m2\u001B[39m], \u001B[38;5;124m'\u001B[39m\u001B[38;5;124mprediction\u001B[39m\u001B[38;5;124m'\u001B[39m : [\u001B[38;5;241m2\u001B[39m,\u001B[38;5;241m1\u001B[39m]})\n\u001B[1;32m      2\u001B[0m dff \u001B[38;5;241m=\u001B[39m pd\u001B[38;5;241m.\u001B[39mDataFrame({\u001B[38;5;124m'\u001B[39m\u001B[38;5;124mtarget\u001B[39m\u001B[38;5;124m'\u001B[39m : [\u001B[38;5;241m1\u001B[39m,\u001B[38;5;241m3\u001B[39m], \u001B[38;5;124m'\u001B[39m\u001B[38;5;124mprediction\u001B[39m\u001B[38;5;124m'\u001B[39m : [\u001B[38;5;241m1\u001B[39m,\u001B[38;5;241m1\u001B[39m]})\n\u001B[0;32m----> 4\u001B[0m \u001B[43mreport\u001B[49m\u001B[38;5;241;43m.\u001B[39;49m\u001B[43mrun\u001B[49m\u001B[43m(\u001B[49m\u001B[43mreference_data\u001B[49m\u001B[38;5;241;43m=\u001B[39;49m\u001B[43mtraining_data\u001B[49m\u001B[43m,\u001B[49m\u001B[43m \u001B[49m\u001B[43mcurrent_data\u001B[49m\u001B[38;5;241;43m=\u001B[39;49m\u001B[43mproduction_data\u001B[49m\u001B[43m,\u001B[49m\u001B[43m \u001B[49m\u001B[43mzero_division\u001B[49m\u001B[43m \u001B[49m\u001B[38;5;241;43m=\u001B[39;49m\u001B[43m \u001B[49m\u001B[38;5;28;43;01mFalse\u001B[39;49;00m\u001B[43m)\u001B[49m\n",
      "\u001B[0;31mTypeError\u001B[0m: run() got an unexpected keyword argument 'zero_division'"
     ]
    }
   ],
   "execution_count": 65
  },
  {
   "metadata": {
    "ExecuteTime": {
     "end_time": "2024-11-28T16:54:57.607283Z",
     "start_time": "2024-11-28T16:54:57.505998Z"
    }
   },
   "cell_type": "code",
   "source": [
    "import pandas as pd\n",
    "from evidently.report import Report\n",
    "from evidently.metric_preset import DataDriftPreset, ClassificationPreset\n",
    "\n",
    "# Exemple de données\n",
    "training_data = pd.DataFrame({'target': [1, 2], 'prediction': [2, 1]})\n",
    "production_data = pd.DataFrame({'target': [1, 3], 'prediction': [1, 1]})\n",
    "\n",
    "# Identifier toutes les classes présentes dans `target` et `prediction`\n",
    "all_classes = sorted(set(training_data['target']).union(training_data['prediction'])\n",
    "                     .union(production_data['target']).union(production_data['prediction']))\n",
    "\n",
    "# Ajouter des échantillons fictifs pour équilibrer les classes dans `training_data`\n",
    "for cls in all_classes:\n",
    "    if cls not in training_data['target'].values:\n",
    "        training_data = pd.concat([training_data, pd.DataFrame({'target': [cls], 'prediction': [cls]})], ignore_index=True)\n",
    "\n",
    "# Ajouter des échantillons fictifs pour équilibrer les classes dans `production_data`\n",
    "for cls in all_classes:\n",
    "    if cls not in production_data['target'].values:\n",
    "        production_data = pd.concat([production_data, pd.DataFrame({'target': [cls], 'prediction': [cls]})], ignore_index=True)\n",
    "\n",
    "# Créer un rapport Evidently\n",
    "report = Report(metrics=[\n",
    "    DataDriftPreset(),\n",
    "    ClassificationPreset()\n",
    "])\n",
    "\n",
    "# Générer le rapport\n",
    "report.run(reference_data=training_data, current_data=production_data)\n",
    "\n",
    "# Sauvegarder le rapport dans un fichier HTML\n",
    "report.save_html(\"evidently_report.html\")\n",
    "print(\"Rapport Evidently généré : evidently_report.html\")"
   ],
   "id": "3027102f69aece3b",
   "outputs": [
    {
     "name": "stdout",
     "output_type": "stream",
     "text": [
      "Rapport Evidently généré : evidently_report.html\n"
     ]
    },
    {
     "name": "stderr",
     "output_type": "stream",
     "text": [
      "/Users/maximemoreau/Documents/ML/ML_deployement/.venv/lib/python3.9/site-packages/sklearn/metrics/_classification.py:1531: UndefinedMetricWarning:\n",
      "\n",
      "Precision is ill-defined and being set to 0.0 in labels with no predicted samples. Use `zero_division` parameter to control this behavior.\n",
      "\n",
      "/Users/maximemoreau/Documents/ML/ML_deployement/.venv/lib/python3.9/site-packages/sklearn/metrics/_classification.py:1531: UndefinedMetricWarning:\n",
      "\n",
      "Precision is ill-defined and being set to 0.0 in labels with no predicted samples. Use `zero_division` parameter to control this behavior.\n",
      "\n",
      "/Users/maximemoreau/Documents/ML/ML_deployement/.venv/lib/python3.9/site-packages/sklearn/metrics/_classification.py:1531: UndefinedMetricWarning:\n",
      "\n",
      "Precision is ill-defined and being set to 0.0 in labels with no predicted samples. Use `zero_division` parameter to control this behavior.\n",
      "\n",
      "/Users/maximemoreau/Documents/ML/ML_deployement/.venv/lib/python3.9/site-packages/sklearn/metrics/_classification.py:1531: UndefinedMetricWarning:\n",
      "\n",
      "Precision is ill-defined and being set to 0.0 in labels with no predicted samples. Use `zero_division` parameter to control this behavior.\n",
      "\n"
     ]
    }
   ],
   "execution_count": 71
  },
  {
   "metadata": {
    "ExecuteTime": {
     "end_time": "2024-11-28T16:54:22.482414Z",
     "start_time": "2024-11-28T16:54:22.479953Z"
    }
   },
   "cell_type": "code",
   "source": "print(training_data.index)",
   "id": "9ce0bb8b22e8c5e1",
   "outputs": [
    {
     "name": "stdout",
     "output_type": "stream",
     "text": [
      "RangeIndex(start=0, stop=3, step=1)\n"
     ]
    }
   ],
   "execution_count": 66
  },
  {
   "metadata": {},
   "cell_type": "code",
   "outputs": [],
   "execution_count": null,
   "source": "",
   "id": "5dd083f0b7dbf749"
  }
 ],
 "metadata": {
  "kernelspec": {
   "display_name": "Python 3",
   "language": "python",
   "name": "python3"
  },
  "language_info": {
   "codemirror_mode": {
    "name": "ipython",
    "version": 2
   },
   "file_extension": ".py",
   "mimetype": "text/x-python",
   "name": "python",
   "nbconvert_exporter": "python",
   "pygments_lexer": "ipython2",
   "version": "2.7.6"
  }
 },
 "nbformat": 4,
 "nbformat_minor": 5
}
